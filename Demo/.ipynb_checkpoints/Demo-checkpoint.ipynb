{
 "cells": [
  {
   "cell_type": "markdown",
   "metadata": {},
   "source": [
    "# Instration"
   ]
  },
  {
   "cell_type": "markdown",
   "metadata": {},
   "source": [
    "naniwaは以下のコマンドでinstall可能\n",
    "\n",
    "PyPIには公開していないので使うにはgithubからcloneしてください\n",
    "\n",
    "pythonのsetuptoolsを使っているので、pipでinstall可能"
   ]
  },
  {
   "cell_type": "code",
   "execution_count": null,
   "metadata": {},
   "outputs": [],
   "source": [
    "! git clone https://github.com/q-group-work/naniwa.git\n",
    "! cd naniwa\n",
    "! pip install ."
   ]
  },
  {
   "cell_type": "markdown",
   "metadata": {},
   "source": [
    "# Usage"
   ]
  },
  {
   "cell_type": "markdown",
   "metadata": {},
   "source": [
    "このライブラリでできることは、qulacs回路とIBMのqiskit回路間の相互変換と、qulacs回路とAWSのbraket回路間の相互変換である。\n",
    "\n",
    "`QulacsConverter`を持ちいると、qulacs回路からqiskit回路やbraket回路へ変換するインスタンスが生成される。\n",
    "\n",
    "同様に、`QiskitConverter`を使えば、qiskit回路からqulacs回路への変換ができる。"
   ]
  },
  {
   "cell_type": "code",
   "execution_count": 43,
   "metadata": {},
   "outputs": [
    {
     "name": "stdout",
     "output_type": "stream",
     "text": [
      "<class 'qulacs.QuantumCircuit'>\n",
      "<class 'qiskit.circuit.quantumcircuit.QuantumCircuit'>\n"
     ]
    },
    {
     "data": {
      "text/html": [
       "<pre style=\"word-wrap: normal;white-space: pre;background: #fff0;line-height: 1.1;font-family: &quot;Courier New&quot;,Courier,monospace\">     ┌───┐     ┌───┐\n",
       "q_0: ┤ H ├──■──┤ H ├\n",
       "     └───┘┌─┴─┐└───┘\n",
       "q_1: ─────┤ X ├─────\n",
       "          └───┘     </pre>"
      ],
      "text/plain": [
       "     ┌───┐     ┌───┐\n",
       "q_0: ┤ H ├──■──┤ H ├\n",
       "     └───┘┌─┴─┐└───┘\n",
       "q_1: ─────┤ X ├─────\n",
       "          └───┘     "
      ]
     },
     "execution_count": 43,
     "metadata": {},
     "output_type": "execute_result"
    }
   ],
   "source": [
    "from naniwa import QulacsConverter\n",
    "from qulacs import QuantumCircuit as qulacsQuantumCircuit\n",
    "from qulacs.gate import H, CNOT\n",
    "\n",
    "qulacs_circuit = qulacsQuantumCircuit(2)\n",
    "qulacs_circuit.add_gate(H(0))\n",
    "qulacs_circuit.add_gate(CNOT(0,1))\n",
    "qulacs_circuit.add_gate(H(0))\n",
    "\n",
    "print(type(qulacs_circuit))\n",
    "\n",
    "con = QulacsConverter(qulacs_circuit)\n",
    "converted_circuit = con.qiskit_convert()\n",
    "print(type(converted_circuit))\n",
    "\n",
    "converted_circuit.draw()"
   ]
  },
  {
   "cell_type": "code",
   "execution_count": 44,
   "metadata": {},
   "outputs": [
    {
     "name": "stdout",
     "output_type": "stream",
     "text": [
      "<class 'qiskit.circuit.quantumcircuit.QuantumCircuit'>\n",
      "<class 'qulacs.QuantumCircuit'>\n"
     ]
    }
   ],
   "source": [
    "from naniwa import QiskitConverter\n",
    "from qiskit import QuantumCircuit as qiskitQuantumCircuit\n",
    "\n",
    "qiskit_circuit = qiskitQuantumCircuit(2)\n",
    "print(type(qiskit_circuit))\n",
    "\n",
    "con = QiskitConverter(qiskit_circuit)\n",
    "converted_circuit = con.qulacs_convert()\n",
    "print(type(converted_circuit))"
   ]
  },
  {
   "cell_type": "markdown",
   "metadata": {},
   "source": [
    "# Demo\n",
    "### 回路変換を用いたH2のVQE"
   ]
  },
  {
   "cell_type": "markdown",
   "metadata": {},
   "source": [
    "ここではqulacsで作成した回路をqiskitやbraketの回路に変換して、H2のHamiltonianに対するVQEを実行してみる。"
   ]
  },
  {
   "cell_type": "markdown",
   "metadata": {},
   "source": [
    "## qulacsによるVQE"
   ]
  },
  {
   "cell_type": "markdown",
   "metadata": {},
   "source": [
    "まず初めにqulacsでVQEを行う"
   ]
  },
  {
   "cell_type": "code",
   "execution_count": 45,
   "metadata": {},
   "outputs": [],
   "source": [
    "from qulacs import Observable, QuantumState, QuantumCircuit\n",
    "import numpy as np\n",
    "import matplotlib.pyplot as plt"
   ]
  },
  {
   "cell_type": "markdown",
   "metadata": {},
   "source": [
    "原子間距離 0.735 Aの水素モデルのHamiltonianとして、以下を考える。"
   ]
  },
  {
   "cell_type": "code",
   "execution_count": 46,
   "metadata": {},
   "outputs": [],
   "source": [
    "nqubits = 2\n",
    "qulacs_hamiltonian= Observable(nqubits)\n",
    "qulacs_hamiltonian.add_operator(-1.052373245772859, \"I 0 I 1\")\n",
    "qulacs_hamiltonian.add_operator(0.39793742484318045, \"I 0 Z 1\")\n",
    "qulacs_hamiltonian.add_operator(-0.39793742484318045, \"Z 0 I 1\")\n",
    "qulacs_hamiltonian.add_operator(-0.01128010425623538, \"Z 0 Z 1\")\n",
    "qulacs_hamiltonian.add_operator(0.18093119978423156, \"X 0 X 1\")\n"
   ]
  },
  {
   "cell_type": "markdown",
   "metadata": {},
   "source": [
    "qulacsによる変分回路の生成\n",
    "\n",
    "今回は以下のような回路を用いる。(qiskitではcircuit libraryのTwoLocal関数で生成できる回路)\n",
    "```\n",
    "     ┌──────────┐   ┌──────────┐   ┌──────────┐   ┌──────────┐\n",
    "q_0: ┤ RY(θ[0]) ├─■─┤ RY(θ[2]) ├─■─┤ RY(θ[4]) ├─■─┤ RY(θ[6]) ├\n",
    "     ├──────────┤ │ ├──────────┤ │ ├──────────┤ │ ├──────────┤\n",
    "q_1: ┤ RY(θ[1]) ├─■─┤ RY(θ[3]) ├─■─┤ RY(θ[5]) ├─■─┤ RY(θ[7]) ├\n",
    "     └──────────┘   └──────────┘   └──────────┘   └──────────┘\n",
    "```"
   ]
  },
  {
   "cell_type": "code",
   "execution_count": 47,
   "metadata": {},
   "outputs": [],
   "source": [
    "from qulacs.gate import RY, CZ\n",
    "\n",
    "def QulacsCircuit(angle, nqubits=2):\n",
    "    ansatz = QuantumCircuit(nqubits)\n",
    "    for i in range(2):\n",
    "        ansatz.add_gate(RY(0, angle[i]))\n",
    "        ansatz.add_gate(RY(1, angle[i+1]))\n",
    "        ansatz.add_gate(CZ(0,1))\n",
    "        ansatz.add_gate(RY(0, angle[i+2]))\n",
    "        ansatz.add_gate(RY(1, angle[i+3]))\n",
    "    return ansatz\n",
    "    "
   ]
  },
  {
   "cell_type": "markdown",
   "metadata": {},
   "source": [
    "コスト関数の定義"
   ]
  },
  {
   "cell_type": "code",
   "execution_count": 48,
   "metadata": {},
   "outputs": [],
   "source": [
    "def cost_qulacs(parameters):\n",
    "    #初期波動関数の用意\n",
    "    state = QuantumState(nqubits) \n",
    "    #ansatz(量子回路を用意)\n",
    "    ansatz = QulacsCircuit(parameters)\n",
    "    ansatz.update_quantum_state(state)\n",
    "    return qulacs_hamiltonian.get_expectation_value(state) \n"
   ]
  },
  {
   "cell_type": "markdown",
   "metadata": {},
   "source": [
    "VQEの実行"
   ]
  },
  {
   "cell_type": "code",
   "execution_count": 49,
   "metadata": {
    "scrolled": true
   },
   "outputs": [
    {
     "name": "stdout",
     "output_type": "stream",
     "text": [
      "Convderged VQE Energy (in hartree) -1.8572750294724731\n"
     ]
    },
    {
     "data": {
      "image/png": "[encoded data removed]",
      "text/plain": [
       "<Figure size 432x288 with 1 Axes>"
      ]
     },
     "metadata": {
      "needs_background": "light"
     },
     "output_type": "display_data"
    }
   ],
   "source": [
    "import scipy\n",
    "\n",
    "init_theta_list = np.random.random(4*nqubits)\n",
    "qulacs_cost_history = []    \n",
    "qulacs_cost_history.append(cost_qulacs(init_theta_list))\n",
    "\n",
    "method = \"SLSQP\"\n",
    "options = {\"disp\": True, \"maxiter\": 1000, \"gtol\": 1e-10}\n",
    "\n",
    "opt = scipy.optimize.minimize(cost_qulacs, init_theta_list,\n",
    "            method=method,\n",
    "            callback=lambda x: qulacs_cost_history.append(cost_qulacs(x)))\n",
    "\n",
    "print (\"Convderged VQE Energy (in hartree)\", qulacs_cost_history[-1])\n",
    "init_theta_list = opt.x\n",
    "\n",
    "plt.plot(qulacs_cost_history, label=\"VQE\")\n",
    "plt.ylabel(\"Energy\")\n",
    "plt.xlabel(\"iteration\")\n",
    "plt.legend()\n",
    "plt.show()"
   ]
  },
  {
   "cell_type": "markdown",
   "metadata": {},
   "source": [
    "## qulacsの回路をqiskitの回路に変換してVQEを実行"
   ]
  },
  {
   "cell_type": "code",
   "execution_count": 50,
   "metadata": {},
   "outputs": [
    {
     "data": {
      "text/html": [
       "<pre style=\"word-wrap: normal;white-space: pre;background: #fff0;line-height: 1.1;font-family: &quot;Courier New&quot;,Courier,monospace\">     ┌────────┐   ┌────────┐┌────────┐   ┌────────┐\n",
       "q_0: ┤ Ry(θ0) ├─■─┤ Ry(θ2) ├┤ Ry(θ4) ├─■─┤ Ry(θ6) ├\n",
       "     ├────────┤ │ ├────────┤├────────┤ │ ├────────┤\n",
       "q_1: ┤ Ry(θ1) ├─■─┤ Ry(θ3) ├┤ Ry(θ5) ├─■─┤ Ry(θ7) ├\n",
       "     └────────┘   └────────┘└────────┘   └────────┘</pre>"
      ],
      "text/plain": [
       "     ┌────────┐   ┌────────┐┌────────┐   ┌────────┐\n",
       "q_0: ┤ Ry(θ0) ├─■─┤ Ry(θ2) ├┤ Ry(θ4) ├─■─┤ Ry(θ6) ├\n",
       "     ├────────┤ │ ├────────┤├────────┤ │ ├────────┤\n",
       "q_1: ┤ Ry(θ1) ├─■─┤ Ry(θ3) ├┤ Ry(θ5) ├─■─┤ Ry(θ7) ├\n",
       "     └────────┘   └────────┘└────────┘   └────────┘"
      ]
     },
     "execution_count": 50,
     "metadata": {},
     "output_type": "execute_result"
    }
   ],
   "source": [
    "con = QulacsConverter(QulacsCircuit(init_theta_list, nqubits=2))\n",
    "qiskit_ansatz = con.qiskit_convert(parameterized=True)\n",
    "qiskit_ansatz.draw()"
   ]
  },
  {
   "cell_type": "markdown",
   "metadata": {},
   "source": [
    "Hamiltonianの作成"
   ]
  },
  {
   "cell_type": "code",
   "execution_count": 51,
   "metadata": {},
   "outputs": [],
   "source": [
    "from qiskit.opflow import X, Z, I\n",
    "H2_op = (-1.052373245772859 * I ^ I) + \\\n",
    "        (0.39793742484318045 * I ^ Z) + \\\n",
    "        (-0.39793742484318045 * Z ^ I) + \\\n",
    "        (-0.01128010425623538 * Z ^ Z) + \\\n",
    "        (0.18093119978423156 * X ^ X)\n"
   ]
  },
  {
   "cell_type": "markdown",
   "metadata": {},
   "source": [
    "期待値の測定用関数"
   ]
  },
  {
   "cell_type": "markdown",
   "metadata": {},
   "source": [
    "cost関数の定義"
   ]
  },
  {
   "cell_type": "markdown",
   "metadata": {},
   "source": [
    "VQEの実行"
   ]
  },
  {
   "cell_type": "code",
   "execution_count": 52,
   "metadata": {},
   "outputs": [
    {
     "name": "stdout",
     "output_type": "stream",
     "text": [
      "Convderged VQE Energy (in hartree) -1.8572748018995862\n"
     ]
    }
   ],
   "source": [
    "from qiskit import Aer\n",
    "from qiskit.opflow import X, Z, I\n",
    "from qiskit.utils import QuantumInstance, algorithm_globals\n",
    "from qiskit.algorithms import VQE\n",
    "from qiskit.algorithms.optimizers import SLSQP\n",
    "from qiskit.circuit.library import TwoLocal\n",
    "\n",
    "seed = 50\n",
    "algorithm_globals.random_seed = seed\n",
    "qi = QuantumInstance(Aer.get_backend('statevector_simulator'), seed_transpiler=seed, seed_simulator=seed)\n",
    "\n",
    "con = QulacsConverter(QulacsCircuit(init_theta_list, nqubits=2))\n",
    "ansatz = con.qiskit_convert(parameterized = True)\n",
    "slsqp = SLSQP(maxiter=1000)\n",
    "vqe = VQE(ansatz, optimizer=slsqp, quantum_instance=qi)\n",
    "qiskit_result = vqe.compute_minimum_eigenvalue(operator=H2_op)\n",
    "print(\"Convderged VQE Energy (in hartree)\", qiskit_result.optimal_value)\n",
    "# optimizer_evals = result.optimizer_evals\n"
   ]
  },
  {
   "cell_type": "markdown",
   "metadata": {},
   "source": [
    "## Braketで実行"
   ]
  },
  {
   "cell_type": "markdown",
   "metadata": {},
   "source": [
    "Hamiltonianの計算とcost関数の作成"
   ]
  },
  {
   "cell_type": "code",
   "execution_count": 53,
   "metadata": {},
   "outputs": [],
   "source": [
    "# general imports\n",
    "import matplotlib.pyplot as plt\n",
    "# magic word for producing visualizations in notebook\n",
    "%matplotlib inline\n",
    "import string\n",
    "import time\n",
    "import numpy as np\n",
    "\n",
    "# AWS imports: Import Braket SDK modules\n",
    "from braket.circuits import Circuit, Gate, Observable\n",
    "from braket.devices import LocalSimulator\n",
    "from braket.aws import AwsDevice"
   ]
  },
  {
   "cell_type": "markdown",
   "metadata": {},
   "source": [
    "ansatzの生成"
   ]
  },
  {
   "cell_type": "code",
   "execution_count": 54,
   "metadata": {},
   "outputs": [
    {
     "name": "stdout",
     "output_type": "stream",
     "text": [
      "T  : |    0     |1|    2    |    3    |4|    5    |\n",
      "                                                   \n",
      "q0 : -Ry(-0.115)-C-Ry(0.629)-Ry(1.09)--C-Ry(1.66)--\n",
      "                 |                     |           \n",
      "q1 : -Ry(1.09)---Z-Ry(1.66)--Ry(0.629)-Z-Ry(0.122)-\n",
      "\n",
      "T  : |    0     |1|    2    |    3    |4|    5    |\n"
     ]
    }
   ],
   "source": [
    "from naniwa import QulacsConverter_2_Braket\n",
    "\n",
    "braket_class = QulacsConverter_2_Braket(QulacsCircuit(init_theta_list, nqubits=2))\n",
    "BraketCircuit = braket_class.braket_convert()\n",
    "print(BraketCircuit)"
   ]
  },
  {
   "cell_type": "code",
   "execution_count": 55,
   "metadata": {},
   "outputs": [],
   "source": [
    "from naniwa import QulacsConverter_2_Braket\n",
    "    \n",
    "def cost_braket(params):\n",
    "    braket_class = QulacsConverter_2_Braket(QulacsCircuit(params, nqubits=2))\n",
    "    BraketCircuit = braket_class.braket_convert()\n",
    "    # set up device: Local Simulator\n",
    "    device = LocalSimulator()\n",
    "    # add the Z \\otimes Z \\otimes Z expectation value\n",
    "    BraketCircuit.expectation(Observable.I() @ Observable.I(), target=[0,1])\n",
    "    BraketCircuit.expectation(Observable.Z(), target=[0])\n",
    "    BraketCircuit.expectation(Observable.Z(), target=[1])\n",
    "    BraketCircuit.expectation(Observable.Z() @ Observable.Z(), target=[0,1])\n",
    "    BraketCircuit.expectation(Observable.X() @ Observable.X(), target=[0,1])\n",
    "\n",
    "    # H2_op = (-1.052373245772859 * I ^ I) + \\\n",
    "    #         (0.39793742484318045 * I ^ Z) + \\\n",
    "    #         (-0.39793742484318045 * Z ^ I) + \\\n",
    "    #         (-0.01128010425623538 * Z ^ Z) + \\\n",
    "    #         (0.18093119978423156 * X ^ X)\n",
    "\n",
    "    task = device.run(BraketCircuit, shots=0)\n",
    "    result = task.result()\n",
    "    conj = [-1.052373245772859, 0.39793742484318045, -0.39793742484318045, -0.01128010425623538, 0.18093119978423156]\n",
    "    cost = 0.0\n",
    "    for i, exp in  enumerate(result.values):\n",
    "        cost+=conj[i]*exp\n",
    "    return cost"
   ]
  },
  {
   "cell_type": "code",
   "execution_count": 57,
   "metadata": {},
   "outputs": [
    {
     "name": "stdout",
     "output_type": "stream",
     "text": [
      "Convderged VQE Energy (in hartree) -1.8572750257892272\n"
     ]
    },
    {
     "data": {
      "image/png": "[encoded data removed]",
      "text/plain": [
       "<Figure size 432x288 with 1 Axes>"
      ]
     },
     "metadata": {
      "needs_background": "light"
     },
     "output_type": "display_data"
    }
   ],
   "source": [
    "import scipy\n",
    "\n",
    "vqe_energies = []\n",
    "init_theta_list = np.random.random(4*nqubits)\n",
    "braket_cost_history = []    \n",
    "braket_cost_history.append(cost_braket(init_theta_list))\n",
    "\n",
    "method = \"SLSQP\"\n",
    "options = {\"disp\": True, \"maxiter\": 1000, \"gtol\": 1e-10}\n",
    "\n",
    "opt = scipy.optimize.minimize(cost_braket, init_theta_list,\n",
    "            method=method,\n",
    "            callback=lambda x: braket_cost_history.append(cost_braket(x)))\n",
    "\n",
    "print (\"Convderged VQE Energy (in hartree)\", braket_cost_history[-1])\n",
    "\n",
    "init_theta_list = opt.x\n",
    "\n",
    "plt.plot(braket_cost_history, label=\"VQE\")\n",
    "plt.ylabel(\"Energy\")\n",
    "plt.xlabel(\"iteration\")\n",
    "plt.legend()\n",
    "plt.show()"
   ]
  },
  {
   "cell_type": "code",
   "execution_count": 71,
   "metadata": {},
   "outputs": [
    {
     "name": "stdout",
     "output_type": "stream",
     "text": [
      "Convderged VQE Energy in qulacs (in hartree) -1.8572750294724731\n",
      "Convderged VQE Energy in qiskit (in hartree) -1.8572748018995862\n",
      "Convderged VQE Energy in braket (in hartree) -1.8572750257892272\n"
     ]
    },
    {
     "data": {
      "image/png": "[encoded data removed]",
      "text/plain": [
       "<Figure size 432x288 with 1 Axes>"
      ]
     },
     "metadata": {
      "needs_background": "light"
     },
     "output_type": "display_data"
    }
   ],
   "source": [
    "energys = {\"qulacs\":-qulacs_cost_history[-1], \"qiskit\":-qiskit_result.optimal_value, \"braket\":-braket_cost_history[-1]}\n",
    "\n",
    "print (\"Convderged VQE Energy in qulacs (in hartree)\", qulacs_cost_history[-1])\n",
    "print(\"Convderged VQE Energy in qiskit (in hartree)\", qiskit_result.optimal_value)\n",
    "print (\"Convderged VQE Energy in braket (in hartree)\", braket_cost_history[-1])\n",
    "\n",
    "plt.bar(energys.keys(), energys.values())\n",
    "plt.xlabel('library')\n",
    "plt.ylabel(' -E (in hartree)')\n",
    "plt.yscale('log')\n",
    "# plt.legend()\n",
    "plt.show()"
   ]
  },
  {
   "cell_type": "code",
   "execution_count": null,
   "metadata": {},
   "outputs": [],
   "source": []
  }
 ],
 "metadata": {
  "kernelspec": {
   "display_name": "Python 3 (ipykernel)",
   "language": "python",
   "name": "python3"
  },
  "language_info": {
   "codemirror_mode": {
    "name": "ipython",
    "version": 3
   },
   "file_extension": ".py",
   "mimetype": "text/x-python",
   "name": "python",
   "nbconvert_exporter": "python",
   "pygments_lexer": "ipython3",
   "version": "3.9.10"
  }
 },
 "nbformat": 4,
 "nbformat_minor": 2
}
