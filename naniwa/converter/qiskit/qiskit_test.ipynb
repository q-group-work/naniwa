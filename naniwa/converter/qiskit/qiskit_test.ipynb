{
 "cells": [
  {
   "cell_type": "code",
   "execution_count": 1,
   "metadata": {},
   "outputs": [],
   "source": [
    "import qiskit\n",
    "import numpy as np"
   ]
  },
  {
   "cell_type": "code",
   "execution_count": 2,
   "metadata": {},
   "outputs": [],
   "source": [
    "from qiskit import QuantumCircuit\n",
    "\n",
    "\n",
    "# Create a Quantum Circuit acting on the q register\n",
    "circuit = QuantumCircuit(2, 2)"
   ]
  },
  {
   "cell_type": "code",
   "execution_count": 3,
   "metadata": {},
   "outputs": [
    {
     "data": {
      "text/plain": [
       "2"
      ]
     },
     "execution_count": 3,
     "metadata": {},
     "output_type": "execute_result"
    }
   ],
   "source": [
    "circuit.num_qubits"
   ]
  },
  {
   "cell_type": "code",
   "execution_count": 4,
   "metadata": {},
   "outputs": [
    {
     "name": "stderr",
     "output_type": "stream",
     "text": [
      "/var/folders/7k/0nl9qh494kj75nrl8_y5sjvr0000gn/T/ipykernel_19441/679832358.py:17: DeprecationWarning: The QuantumCircuit.u2 method is deprecated as of 0.16.0. It will be removed no earlier than 3 months after the release date. You can use the general 1-qubit gate QuantumCircuit.u instead: u2(φ,λ) = u(π/2, φ, λ). Alternatively, you can decompose it interms of QuantumCircuit.p and QuantumCircuit.sx: u2(φ,λ) = p(π/2+φ) sx p(λ-π/2) (1 pulse on hardware).\n",
      "  circuit.u2(np.pi/2,np.pi/2,1)\n"
     ]
    },
    {
     "data": {
      "text/plain": [
       "<qiskit.circuit.instructionset.InstructionSet at 0x10fb5ef80>"
      ]
     },
     "execution_count": 4,
     "metadata": {},
     "output_type": "execute_result"
    }
   ],
   "source": [
    "# Add a H gate on qubit 0\n",
    "circuit.h(0)\n",
    "circuit.id(0)\n",
    "circuit.x(0)\n",
    "circuit.y(0)\n",
    "circuit.z(0)\n",
    "circuit.s(0)\n",
    "circuit.sdg(0)\n",
    "circuit.t(0)\n",
    "circuit.tdg(0)\n",
    "circuit.rx(np.pi/2,0)\n",
    "circuit.ry(np.pi/2,0)\n",
    "circuit.rz(np.pi/2,0)\n",
    "circuit.cx(0,1)\n",
    "circuit.cz(0,1)\n",
    "circuit.u(np.pi/2,np.pi/2,np.pi/2,0)\n",
    "circuit.u2(np.pi/2,np.pi/2,1)"
   ]
  },
  {
   "cell_type": "code",
   "execution_count": 5,
   "metadata": {},
   "outputs": [
    {
     "data": {
      "text/html": [
       "<pre style=\"word-wrap: normal;white-space: pre;background: #fff0;line-height: 1.1;font-family: &quot;Courier New&quot;,Courier,monospace\">     ┌───┐┌───┐┌───┐┌───┐┌───┐┌───┐┌─────┐┌───┐┌─────┐┌─────────┐┌─────────┐»\n",
       "q_0: ┤ H ├┤ I ├┤ X ├┤ Y ├┤ Z ├┤ S ├┤ Sdg ├┤ T ├┤ Tdg ├┤ Rx(π/2) ├┤ Ry(π/2) ├»\n",
       "     └───┘└───┘└───┘└───┘└───┘└───┘└─────┘└───┘└─────┘└─────────┘└─────────┘»\n",
       "q_1: ───────────────────────────────────────────────────────────────────────»\n",
       "                                                                            »\n",
       "c: 2/═══════════════════════════════════════════════════════════════════════»\n",
       "                                                                            »\n",
       "«     ┌─────────┐        ┌────────────────┐\n",
       "«q_0: ┤ Rz(π/2) ├──■───■─┤ U(π/2,π/2,π/2) ├\n",
       "«     └─────────┘┌─┴─┐ │ └┬─────────────┬─┘\n",
       "«q_1: ───────────┤ X ├─■──┤ U2(π/2,π/2) ├──\n",
       "«                └───┘    └─────────────┘  \n",
       "«c: 2/═════════════════════════════════════\n",
       "«                                          </pre>"
      ],
      "text/plain": [
       "     ┌───┐┌───┐┌───┐┌───┐┌───┐┌───┐┌─────┐┌───┐┌─────┐┌─────────┐┌─────────┐»\n",
       "q_0: ┤ H ├┤ I ├┤ X ├┤ Y ├┤ Z ├┤ S ├┤ Sdg ├┤ T ├┤ Tdg ├┤ Rx(π/2) ├┤ Ry(π/2) ├»\n",
       "     └───┘└───┘└───┘└───┘└───┘└───┘└─────┘└───┘└─────┘└─────────┘└─────────┘»\n",
       "q_1: ───────────────────────────────────────────────────────────────────────»\n",
       "                                                                            »\n",
       "c: 2/═══════════════════════════════════════════════════════════════════════»\n",
       "                                                                            »\n",
       "«     ┌─────────┐        ┌────────────────┐\n",
       "«q_0: ┤ Rz(π/2) ├──■───■─┤ U(π/2,π/2,π/2) ├\n",
       "«     └─────────┘┌─┴─┐ │ └┬─────────────┬─┘\n",
       "«q_1: ───────────┤ X ├─■──┤ U2(π/2,π/2) ├──\n",
       "«                └───┘    └─────────────┘  \n",
       "«c: 2/═════════════════════════════════════\n",
       "«                                          "
      ]
     },
     "execution_count": 5,
     "metadata": {},
     "output_type": "execute_result"
    }
   ],
   "source": [
    "circuit.draw()"
   ]
  },
  {
   "cell_type": "code",
   "execution_count": 6,
   "metadata": {},
   "outputs": [],
   "source": [
    "import qulacs\n",
    "import qiskit_converter"
   ]
  },
  {
   "cell_type": "code",
   "execution_count": 7,
   "metadata": {},
   "outputs": [],
   "source": [
    "qiskit_converter = qiskit_converter.QiskitConverter(circuit)\n",
    "qulacs_circuit = qiskit_converter.qulacs_convert()"
   ]
  },
  {
   "cell_type": "code",
   "execution_count": 8,
   "metadata": {},
   "outputs": [
    {
     "data": {
      "text/plain": [
       "qulacs.QuantumCircuit"
      ]
     },
     "execution_count": 8,
     "metadata": {},
     "output_type": "execute_result"
    }
   ],
   "source": [
    "type(qulacs_circuit)"
   ]
  },
  {
   "cell_type": "code",
   "execution_count": 10,
   "metadata": {},
   "outputs": [
    {
     "data": {
      "text/plain": [
       "16"
      ]
     },
     "execution_count": 10,
     "metadata": {},
     "output_type": "execute_result"
    }
   ],
   "source": [
    "qulacs_circuit.get_gate_count()"
   ]
  },
  {
   "cell_type": "code",
   "execution_count": 12,
   "metadata": {},
   "outputs": [
    {
     "data": {
      "text/plain": [
       "*** Quantum Circuit Info ***\n",
       "# of qubit: 2\n",
       "# of step : 15\n",
       "# of gate : 16\n",
       "# of 1 qubit gate: 14\n",
       "# of 2 qubit gate: 2\n",
       "Clifford  : no\n",
       "Gaussian  : no\n"
      ]
     },
     "execution_count": 12,
     "metadata": {},
     "output_type": "execute_result"
    }
   ],
   "source": [
    "qulacs_circuit"
   ]
  },
  {
   "cell_type": "code",
   "execution_count": null,
   "metadata": {},
   "outputs": [],
   "source": []
  }
 ],
 "metadata": {
  "kernelspec": {
   "display_name": "Python 3 (ipykernel)",
   "language": "python",
   "name": "python3"
  },
  "language_info": {
   "codemirror_mode": {
    "name": "ipython",
    "version": 3
   },
   "file_extension": ".py",
   "mimetype": "text/x-python",
   "name": "python",
   "nbconvert_exporter": "python",
   "pygments_lexer": "ipython3",
   "version": "3.9.10"
  }
 },
 "nbformat": 4,
 "nbformat_minor": 2
}
