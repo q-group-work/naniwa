{
 "cells": [
  {
   "cell_type": "code",
   "execution_count": 52,
   "metadata": {},
   "outputs": [],
   "source": [
    "import qiskit\n",
    "import numpy as np"
   ]
  },
  {
   "cell_type": "code",
   "execution_count": 74,
   "metadata": {},
   "outputs": [],
   "source": [
    "from qiskit import QuantumCircuit\n",
    "\n",
    "\n",
    "# Create a Quantum Circuit acting on the q register\n",
    "circuit = QuantumCircuit(2, 2)"
   ]
  },
  {
   "cell_type": "code",
   "execution_count": 77,
   "metadata": {},
   "outputs": [
    {
     "data": {
      "text/plain": [
       "2"
      ]
     },
     "execution_count": 77,
     "metadata": {},
     "output_type": "execute_result"
    }
   ],
   "source": [
    "circuit.num_qubits"
   ]
  },
  {
   "cell_type": "code",
   "execution_count": 75,
   "metadata": {},
   "outputs": [
    {
     "name": "stderr",
     "output_type": "stream",
     "text": [
      "/var/folders/7k/0nl9qh494kj75nrl8_y5sjvr0000gn/T/ipykernel_8657/679832358.py:17: DeprecationWarning: The QuantumCircuit.u2 method is deprecated as of 0.16.0. It will be removed no earlier than 3 months after the release date. You can use the general 1-qubit gate QuantumCircuit.u instead: u2(φ,λ) = u(π/2, φ, λ). Alternatively, you can decompose it interms of QuantumCircuit.p and QuantumCircuit.sx: u2(φ,λ) = p(π/2+φ) sx p(λ-π/2) (1 pulse on hardware).\n",
      "  circuit.u2(np.pi/2,np.pi/2,1)\n"
     ]
    },
    {
     "data": {
      "text/plain": [
       "<qiskit.circuit.instructionset.InstructionSet at 0x1477447c0>"
      ]
     },
     "execution_count": 75,
     "metadata": {},
     "output_type": "execute_result"
    }
   ],
   "source": [
    "# Add a H gate on qubit 0\n",
    "circuit.h(0)\n",
    "circuit.id(0)\n",
    "circuit.x(0)\n",
    "circuit.y(0)\n",
    "circuit.z(0)\n",
    "circuit.s(0)\n",
    "circuit.sdg(0)\n",
    "circuit.t(0)\n",
    "circuit.tdg(0)\n",
    "circuit.rx(np.pi/2,0)\n",
    "circuit.ry(np.pi/2,0)\n",
    "circuit.rz(np.pi/2,0)\n",
    "circuit.cx(0,1)\n",
    "circuit.cz(0,1)\n",
    "circuit.u(np.pi/2,np.pi/2,np.pi/2,0)\n",
    "circuit.u2(np.pi/2,np.pi/2,1)"
   ]
  },
  {
   "cell_type": "code",
   "execution_count": 10,
   "metadata": {},
   "outputs": [
    {
     "name": "stdout",
     "output_type": "stream",
     "text": [
      "[(Instruction(name='h', num_qubits=1, num_clbits=0, params=[]), [Qubit(QuantumRegister(2, 'q'), 0)], []), (Instruction(name='cx', num_qubits=2, num_clbits=0, params=[]), [Qubit(QuantumRegister(2, 'q'), 0), Qubit(QuantumRegister(2, 'q'), 1)], []), (Instruction(name='measure', num_qubits=1, num_clbits=1, params=[]), [Qubit(QuantumRegister(2, 'q'), 0)], [Clbit(ClassicalRegister(2, 'c'), 0)]), (Instruction(name='measure', num_qubits=1, num_clbits=1, params=[]), [Qubit(QuantumRegister(2, 'q'), 1)], [Clbit(ClassicalRegister(2, 'c'), 1)])]\n",
      "<class 'qiskit.circuit.quantumcircuitdata.QuantumCircuitData'>\n"
     ]
    }
   ],
   "source": [
    "print(circuit.data)\n",
    "print(type(circuit.data))"
   ]
  },
  {
   "cell_type": "code",
   "execution_count": 76,
   "metadata": {},
   "outputs": [
    {
     "name": "stdout",
     "output_type": "stream",
     "text": [
      "num_0:\n",
      "Instruction(name='h', num_qubits=1, num_clbits=0, params=[])\n",
      "[Qubit(QuantumRegister(2, 'q'), 0)]\n",
      "[]\n",
      "num_1:\n",
      "Instruction(name='id', num_qubits=1, num_clbits=0, params=[])\n",
      "[Qubit(QuantumRegister(2, 'q'), 0)]\n",
      "[]\n",
      "num_2:\n",
      "Instruction(name='x', num_qubits=1, num_clbits=0, params=[])\n",
      "[Qubit(QuantumRegister(2, 'q'), 0)]\n",
      "[]\n",
      "num_3:\n",
      "Instruction(name='y', num_qubits=1, num_clbits=0, params=[])\n",
      "[Qubit(QuantumRegister(2, 'q'), 0)]\n",
      "[]\n",
      "num_4:\n",
      "Instruction(name='z', num_qubits=1, num_clbits=0, params=[])\n",
      "[Qubit(QuantumRegister(2, 'q'), 0)]\n",
      "[]\n",
      "num_5:\n",
      "Instruction(name='s', num_qubits=1, num_clbits=0, params=[])\n",
      "[Qubit(QuantumRegister(2, 'q'), 0)]\n",
      "[]\n",
      "num_6:\n",
      "Instruction(name='sdg', num_qubits=1, num_clbits=0, params=[])\n",
      "[Qubit(QuantumRegister(2, 'q'), 0)]\n",
      "[]\n",
      "num_7:\n",
      "Instruction(name='t', num_qubits=1, num_clbits=0, params=[])\n",
      "[Qubit(QuantumRegister(2, 'q'), 0)]\n",
      "[]\n",
      "num_8:\n",
      "Instruction(name='tdg', num_qubits=1, num_clbits=0, params=[])\n",
      "[Qubit(QuantumRegister(2, 'q'), 0)]\n",
      "[]\n",
      "num_9:\n",
      "Instruction(name='rx', num_qubits=1, num_clbits=0, params=[1.5707963267948966])\n",
      "[Qubit(QuantumRegister(2, 'q'), 0)]\n",
      "[]\n",
      "num_10:\n",
      "Instruction(name='ry', num_qubits=1, num_clbits=0, params=[1.5707963267948966])\n",
      "[Qubit(QuantumRegister(2, 'q'), 0)]\n",
      "[]\n",
      "num_11:\n",
      "Instruction(name='rz', num_qubits=1, num_clbits=0, params=[1.5707963267948966])\n",
      "[Qubit(QuantumRegister(2, 'q'), 0)]\n",
      "[]\n",
      "num_12:\n",
      "Instruction(name='cx', num_qubits=2, num_clbits=0, params=[])\n",
      "[Qubit(QuantumRegister(2, 'q'), 0), Qubit(QuantumRegister(2, 'q'), 1)]\n",
      "[]\n",
      "num_13:\n",
      "Instruction(name='cz', num_qubits=2, num_clbits=0, params=[])\n",
      "[Qubit(QuantumRegister(2, 'q'), 0), Qubit(QuantumRegister(2, 'q'), 1)]\n",
      "[]\n",
      "num_14:\n",
      "Instruction(name='u', num_qubits=1, num_clbits=0, params=[1.5707963267948966, 1.5707963267948966, 1.5707963267948966])\n",
      "[Qubit(QuantumRegister(2, 'q'), 0)]\n",
      "[]\n",
      "num_15:\n",
      "Instruction(name='u2', num_qubits=1, num_clbits=0, params=[1.5707963267948966, 1.5707963267948966])\n",
      "[Qubit(QuantumRegister(2, 'q'), 1)]\n",
      "[]\n"
     ]
    }
   ],
   "source": [
    "for i in range(len(circuit.data)):\n",
    "    print('num_{}:'.format(i))\n",
    "    print(circuit.data[i][0])\n",
    "    print(circuit.data[i][1])\n",
    "    print(circuit.data[i][2])"
   ]
  },
  {
   "cell_type": "code",
   "execution_count": 25,
   "metadata": {},
   "outputs": [
    {
     "data": {
      "text/plain": [
       "Instruction(name='h', num_qubits=1, num_clbits=0, params=[])"
      ]
     },
     "execution_count": 25,
     "metadata": {},
     "output_type": "execute_result"
    }
   ],
   "source": [
    "circuit.data[0][0]"
   ]
  },
  {
   "cell_type": "code",
   "execution_count": 38,
   "metadata": {},
   "outputs": [
    {
     "data": {
      "text/plain": [
       "'h'"
      ]
     },
     "execution_count": 38,
     "metadata": {},
     "output_type": "execute_result"
    }
   ],
   "source": [
    "circuit.data[0][0].name"
   ]
  },
  {
   "cell_type": "code",
   "execution_count": null,
   "metadata": {},
   "outputs": [],
   "source": [
    "import qulacs\n",
    "import qiskit"
   ]
  }
 ],
 "metadata": {
  "kernelspec": {
   "display_name": "Python 3 (ipykernel)",
   "language": "python",
   "name": "python3"
  },
  "language_info": {
   "codemirror_mode": {
    "name": "ipython",
    "version": 3
   },
   "file_extension": ".py",
   "mimetype": "text/x-python",
   "name": "python",
   "nbconvert_exporter": "python",
   "pygments_lexer": "ipython3",
   "version": "3.9.10"
  }
 },
 "nbformat": 4,
 "nbformat_minor": 2
}
