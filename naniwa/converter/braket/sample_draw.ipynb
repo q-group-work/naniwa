{
 "cells": [
  {
   "cell_type": "code",
   "execution_count": 1,
   "metadata": {},
   "outputs": [],
   "source": [
    "from qulacs import QuantumCircuit\n",
    "from qulacs.gate import Identity, X, Y, Z, H, S, Sdag, T, Tdag, sqrtX, sqrtXdag, sqrtY, sqrtYdag, CNOT, CZ, SWAP, RX, RY, RZ, Pauli, PauliRotation, U1, U2, U3, DenseMatrix, Measurement, BitFlipNoise, DephasingNoise,  DepolarizingNoise"
   ]
  },
  {
   "cell_type": "code",
   "execution_count": 2,
   "metadata": {},
   "outputs": [],
   "source": [
    "def sample_circuit():\n",
    "    circuit = QuantumCircuit(6)\n",
    "\n",
    "    circuit.add_gate(Identity(0))\n",
    "    circuit.add_gate(X(0))\n",
    "    circuit.add_gate(Y(1))\n",
    "    circuit.add_gate(Z(2))\n",
    "    circuit.add_gate(H(4))\n",
    "\n",
    "    circuit.add_gate(RX(3,0.10))\n",
    "    circuit.add_gate(RY(4,0.20))\n",
    "    circuit.add_gate(RZ(5,0.30))\n",
    "\n",
    "    circuit.add_gate(CNOT(0,1))\n",
    "    circuit.add_gate(CNOT(1,2))\n",
    "    circuit.add_gate(SWAP(2,3))\n",
    "    circuit.add_gate(SWAP(3,4))\n",
    "    circuit.add_gate(CZ(4,5))\n",
    "\n",
    "    circuit.add_gate(S(1))\n",
    "    circuit.add_gate(Sdag(1))\n",
    "    circuit.add_gate(T(1))\n",
    "    circuit.add_gate(Tdag(1))\n",
    "\n",
    "    circuit.add_gate(sqrtX(4))\n",
    "    circuit.add_gate(sqrtXdag(5))\n",
    "    circuit.add_gate(sqrtY(1))\n",
    "    circuit.add_gate(sqrtYdag(1))\n",
    "\n",
    "    circuit.add_gate(CNOT(1,2))\n",
    "    circuit.add_gate(SWAP(1,2))\n",
    "    circuit.add_gate(CZ(1,2))\n",
    "\n",
    "    circuit.add_gate(U1(0, 0.))\n",
    "    circuit.add_gate(U2(0, 0., 0.))\n",
    "    circuit.add_gate(U3(0, 0., 0., 0.))\n",
    "    \n",
    "    circuit.add_gate(DenseMatrix(1, [[0,1],[1,0]]))\n",
    "    return circuit"
   ]
  },
  {
   "cell_type": "code",
   "execution_count": 3,
   "metadata": {},
   "outputs": [
    {
     "name": "stdout",
     "output_type": "stream",
     "text": [
      "T  : |   0   |1|2|3|4|     5     |     6     |     7     |   8    |9| 10 |11|\n",
      "                                                                             \n",
      "q0 : -X-------Y-Z-H-C-DenseMatrix-DenseMatrix-DenseMatrix--------------------\n",
      "                    |                                                        \n",
      "q1 : ---------------X-C-----------S-----------T-----------sqrtYdag-C-SWAP-C--\n",
      "                      |                                            | |    |  \n",
      "q2 : -----------------X-----------SWAP-----------------------------X-SWAP-Z--\n",
      "                                  |                                          \n",
      "q3 : -Rx(0.1)---------------------SWAP--------SWAP---------------------------\n",
      "                                              |                              \n",
      "q4 : -Ry(0.2)---------------------------------SWAP--------C------------------\n",
      "                                                          |                  \n",
      "q5 : -Rz(0.3)---------------------------------------------Z------------------\n",
      "\n",
      "T  : |   0   |1|2|3|4|     5     |     6     |     7     |   8    |9| 10 |11|\n"
     ]
    }
   ],
   "source": [
    "from braket_converter import QulacsConverter_2_Braket\n",
    "\n",
    "braket_class = QulacsConverter_2_Braket(sample_circuit())\n",
    "print(braket_class.braket_convert())"
   ]
  }
 ],
 "metadata": {
  "interpreter": {
   "hash": "916dbcbb3f70747c44a77c7bcd40155683ae19c65e1c03b4aa3499c5328201f1"
  },
  "kernelspec": {
   "display_name": "Python 3.8.10 64-bit",
   "language": "python",
   "name": "python3"
  },
  "language_info": {
   "codemirror_mode": {
    "name": "ipython",
    "version": 3
   },
   "file_extension": ".py",
   "mimetype": "text/x-python",
   "name": "python",
   "nbconvert_exporter": "python",
   "pygments_lexer": "ipython3",
   "version": "3.8.10"
  },
  "orig_nbformat": 4
 },
 "nbformat": 4,
 "nbformat_minor": 2
}
