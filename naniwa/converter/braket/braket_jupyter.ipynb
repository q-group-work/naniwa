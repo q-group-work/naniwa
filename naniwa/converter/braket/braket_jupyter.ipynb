{
 "cells": [
  {
   "cell_type": "code",
   "execution_count": 34,
   "metadata": {},
   "outputs": [],
   "source": [
    "from braket.circuits import Circuit, Gate, Observable\n",
    "import numpy as np"
   ]
  },
  {
   "cell_type": "code",
   "execution_count": 51,
   "metadata": {},
   "outputs": [],
   "source": [
    "def braket_circuit(n_qubits):\n",
    "    \"\"\"\n",
    "    function to return a GHZ circuit ansatz\n",
    "    input: number of qubits\n",
    "    \"\"\"\n",
    "\n",
    "    # instantiate circuit object\n",
    "    circuit = Circuit()\n",
    "    # add Hadamard gate on first qubit\n",
    "    # circuit.h(0)\n",
    "    # circuit.s(0)\n",
    "    # circuit.si(0)\n",
    "    # circuit.t(0)\n",
    "    # circuit.ti(0)\n",
    "    # circuit.i(0)\n",
    "    circuit.rx(0,np.pi/4)\n",
    "    circuit.cz(0,1)\n",
    "    circuit.swap(0,1)\n",
    "    \n",
    "    # apply series of CNOT gates\n",
    "    for ii in range(0, n_qubits-1):\n",
    "        circuit.cnot(control=ii, target=ii+1)\n",
    "\n",
    "    return circuit"
   ]
  },
  {
   "cell_type": "code",
   "execution_count": 52,
   "metadata": {},
   "outputs": [
    {
     "name": "stdout",
     "output_type": "stream",
     "text": [
      "Instruction('operator': Rx('angle': 0.7853981633974483, 'qubit_count': 1), 'target': QubitSet([Qubit(0)]))\n",
      "Rx('angle': 0.7853981633974483, 'qubit_count': 1)\n",
      "Rx\n",
      "Instruction('operator': CZ('qubit_count': 2), 'target': QubitSet([Qubit(0), Qubit(1)]))\n",
      "CZ('qubit_count': 2)\n",
      "CZ\n",
      "Instruction('operator': Swap('qubit_count': 2), 'target': QubitSet([Qubit(0), Qubit(1)]))\n",
      "Swap('qubit_count': 2)\n",
      "Swap\n",
      "Instruction('operator': CNot('qubit_count': 2), 'target': QubitSet([Qubit(0), Qubit(1)]))\n",
      "CNot('qubit_count': 2)\n",
      "CNot\n",
      "Instruction('operator': CNot('qubit_count': 2), 'target': QubitSet([Qubit(1), Qubit(2)]))\n",
      "CNot('qubit_count': 2)\n",
      "CNot\n"
     ]
    },
    {
     "data": {
      "text/plain": [
       "5"
      ]
     },
     "execution_count": 52,
     "metadata": {},
     "output_type": "execute_result"
    }
   ],
   "source": [
    "n_qubits = 3\n",
    "circuit = braket_circuit(n_qubits)\n",
    "\n",
    "# print(circuit.qubit_count)\n",
    "# print(circuit.qubits)\n",
    "# print(circuit.depth)\n",
    "# print(ghz.instructions)\n",
    "for instr in circuit.instructions:\n",
    "    print(instr)\n",
    "    print(instr.operator)\n",
    "    print(instr.operator.name)\n",
    "    # print(instr.operator.angle)\n",
    "    # print(instr.target)\n",
    "    # for q in instr.target:\n",
    "    #     print(\"num of qubit\", int(q))\n",
    "    # print(instr.target)\n",
    "    # print(type(instr.target))\n",
    "\n",
    "len(circuit.instructions)\n",
    "\n"
   ]
  },
  {
   "cell_type": "code",
   "execution_count": 28,
   "metadata": {},
   "outputs": [
    {
     "name": "stdout",
     "output_type": "stream",
     "text": [
      "['CCNot', 'CNot', 'CPhaseShift', 'CPhaseShift00', 'CPhaseShift01', 'CPhaseShift10', 'CSwap', 'CV', 'CY', 'CZ', 'H', 'I', 'ISwap', 'PSwap', 'PhaseShift', 'Rx', 'Ry', 'Rz', 'S', 'Si', 'Swap', 'T', 'Ti', 'Unitary', 'V', 'Vi', 'X', 'XX', 'XY', 'Y', 'YY', 'Z', 'ZZ']\n"
     ]
    }
   ],
   "source": [
    "import string\n",
    "from braket.circuits import Gate\n",
    "\n",
    "gate_set = [attr for attr in dir(Gate) if attr[0] in string.ascii_uppercase]\n",
    "print(gate_set)"
   ]
  }
 ],
 "metadata": {
  "kernelspec": {
   "display_name": "git",
   "language": "python",
   "name": "git"
  },
  "language_info": {
   "codemirror_mode": {
    "name": "ipython",
    "version": 3
   },
   "file_extension": ".py",
   "mimetype": "text/x-python",
   "name": "python",
   "nbconvert_exporter": "python",
   "pygments_lexer": "ipython3",
   "version": "3.9.10"
  },
  "orig_nbformat": 4
 },
 "nbformat": 4,
 "nbformat_minor": 2
}
