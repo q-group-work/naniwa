{
 "cells": [
  {
   "cell_type": "code",
   "execution_count": null,
   "metadata": {},
   "outputs": [],
   "source": [
    "import qiskit\n",
    "import converter\n",
    "from drawer import get_qiskit_circuit\n",
    "from qulacs import QuantumCircuit, ParametricQuantumCircuit\n",
    "from qulacs.gate import Identity, X, Y, Z, H, S, Sdag, T, Tdag, sqrtX, sqrtXdag, sqrtY, sqrtYdag, CNOT, CZ, SWAP, RX, RY, RZ, Pauli, PauliRotation, U1, U2, U3, DenseMatrix, Measurement, BitFlipNoise, DephasingNoise,  DepolarizingNoise\n",
    "# TODO: resolve IndepenedentXZNoise\n",
    "# Doc https://dojo.qulacs.org/ja/latest/notebooks/3.1_Qulacs_tutorial.html\n",
    "import matplotlib.pyplot as plt"
   ]
  },
  {
   "cell_type": "code",
   "execution_count": null,
   "metadata": {},
   "outputs": [],
   "source": [
    "def sample_circuit():\n",
    "    circuit = QuantumCircuit(6)\n",
    "    circuit.add_X_gate(0)\n",
    "    circuit.add_Y_gate(1)\n",
    "    circuit.add_Z_gate(2)\n",
    "    \n",
    "    circuit.add_gate(RX(3,0.10))\n",
    "    circuit.add_gate(RY(4,0.20))\n",
    "    circuit.add_gate(RZ(5,0.30))\n",
    "    \n",
    "    circuit.add_gate(sqrtX(4))\n",
    "    circuit.add_gate(sqrtXdag(5))\n",
    "    \n",
    "    circuit.add_gate(CNOT(0,1))\n",
    "    circuit.add_gate(CNOT(1,2))\n",
    "    circuit.add_gate(SWAP(2,3))\n",
    "    circuit.add_gate(SWAP(3,4))\n",
    "    circuit.add_gate(CZ(4,5))\n",
    "    \n",
    "    circuit.add_H_gate(0)\n",
    "    circuit.add_gate(Identity(0))\n",
    "    \n",
    "    circuit.add_gate(CNOT(1,2))\n",
    "\n",
    "    circuit.add_X_gate(3)\n",
    "    circuit.add_Y_gate(4)\n",
    "    circuit.add_Z_gate(5)\n",
    "    \n",
    "    circuit.add_T_gate(3)\n",
    "    circuit.add_Tdag_gate(3)   \n",
    "\n",
    "    circuit.add_S_gate(4)\n",
    "    circuit.add_Sdag_gate(5)\n",
    "    \n",
    "\n",
    "    circuit.add_gate(H(3))\n",
    "    circuit.add_gate(X(4))\n",
    "    circuit.add_gate(Y(5))\n",
    "    \n",
    "\n",
    "    circuit.add_gate(S(1))\n",
    "    circuit.add_gate(Sdag(1))\n",
    "    circuit.add_gate(T(1))\n",
    "    circuit.add_gate(Tdag(1))\n",
    "    circuit.add_gate(sqrtX(4))\n",
    "    circuit.add_gate(sqrtXdag(5))\n",
    "    circuit.add_gate(sqrtY(1))\n",
    "    circuit.add_gate(sqrtYdag(1))\n",
    "\n",
    "    circuit.add_gate(CNOT(1,2))\n",
    "    circuit.add_gate(SWAP(1,2))\n",
    "    circuit.add_gate(CZ(1,2))\n",
    "\n",
    "    circuit.add_gate(DenseMatrix(1, [[0,1],[1,0]]))\n",
    "\n",
    "    # Pauli\n",
    "    target_list = [0,3,5]\n",
    "    pauli_index = [1,3,1] # 1:X , 2:Y, 3:Z\n",
    "    circuit.add_gate(Pauli(target_list, pauli_index))\n",
    "\n",
    "    angle = 0.5\n",
    "    gate = PauliRotation(target_list, pauli_index, angle)\n",
    "\n",
    "    return circuit"
   ]
  },
  {
   "cell_type": "code",
   "execution_count": null,
   "metadata": {
    "scrolled": true
   },
   "outputs": [],
   "source": [
    "circuit_qulacs = sample_circuit()\n",
    "circuit_qiskit = get_qiskit_circuit(circuit_qulacs)\n",
    "circuit_qiskit.draw(output=\"mpl\")"
   ]
  },
  {
   "cell_type": "code",
   "execution_count": null,
   "metadata": {},
   "outputs": [],
   "source": []
  }
 ],
 "metadata": {
  "interpreter": {
   "hash": "916dbcbb3f70747c44a77c7bcd40155683ae19c65e1c03b4aa3499c5328201f1"
  },
  "kernelspec": {
   "display_name": "Python 3 (ipykernel)",
   "language": "python",
   "name": "python3"
  },
  "language_info": {
   "codemirror_mode": {
    "name": "ipython",
    "version": 3
   },
   "file_extension": ".py",
   "mimetype": "text/x-python",
   "name": "python",
   "nbconvert_exporter": "python",
   "pygments_lexer": "ipython3",
   "version": "3.9.9"
  }
 },
 "nbformat": 4,
 "nbformat_minor": 2
}
